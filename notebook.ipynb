{
 "cells": [
  {
   "cell_type": "markdown",
   "id": "5a23c15c",
   "metadata": {},
   "source": [
    "## Presets"
   ]
  },
  {
   "cell_type": "code",
   "execution_count": 1,
   "id": "3c78bff8",
   "metadata": {},
   "outputs": [],
   "source": [
    "import os, sys\n",
    "PWD = os.getenv('PWD')\n",
    "os.chdir(PWD)\n",
    "sys.path.insert(0, os.getenv('PWD'))\n",
    "os.environ.setdefault(\"DJANGO_SETTINGS_MODULE\", \"edusite/settings.py\")\n",
    "os.environ[\"DJANGO_ALLOW_ASYNC_UNSAFE\"] = \"true\"\n",
    "import django\n",
    "django.setup()"
   ]
  },
  {
   "cell_type": "markdown",
   "id": "791f3d94",
   "metadata": {},
   "source": [
    "---"
   ]
  },
  {
   "cell_type": "code",
   "execution_count": 2,
   "id": "c6bfe62f",
   "metadata": {},
   "outputs": [],
   "source": [
    "from expenses.models import BankAccount\n",
    "\n",
    "from datetime import timedelta\n",
    "from django.utils import timezone"
   ]
  },
  {
   "cell_type": "code",
   "execution_count": 3,
   "id": "1dd69cf9",
   "metadata": {},
   "outputs": [],
   "source": [
    "import random\n",
    "from collections import Counter"
   ]
  },
  {
   "cell_type": "code",
   "execution_count": 4,
   "id": "fabfd3f1",
   "metadata": {},
   "outputs": [],
   "source": [
    "# for raw queries to DB\n",
    "from django.db import connection"
   ]
  },
  {
   "cell_type": "markdown",
   "id": "39417d2b",
   "metadata": {},
   "source": [
    "---"
   ]
  },
  {
   "cell_type": "code",
   "execution_count": 5,
   "id": "98b482e6",
   "metadata": {},
   "outputs": [],
   "source": [
    "def dictfetchall(cursor):\n",
    "    \"Return all rows from a cursor as a dict\"\n",
    "    columns = [col[0] for col in cursor.description]\n",
    "    return [\n",
    "        dict(zip(columns, row))\n",
    "        for row in cursor.fetchall()\n",
    "    ]"
   ]
  },
  {
   "cell_type": "code",
   "execution_count": 6,
   "id": "2e6c8f80",
   "metadata": {
    "scrolled": false
   },
   "outputs": [
    {
     "name": "stdout",
     "output_type": "stream",
     "text": [
      "{'QUERY PLAN': 'Seq Scan on expenses_bankaccount  (cost=0.00..1.03 rows=3 width=29) (actual time=0.021..0.026 rows=3 loops=1)'}\n",
      "{'QUERY PLAN': 'Planning Time: 0.740 ms'}\n",
      "{'QUERY PLAN': 'Execution Time: 0.118 ms'}\n"
     ]
    }
   ],
   "source": [
    "with connection.cursor() as cursor:\n",
    "        cursor.execute(\"EXPLAIN ANALYZE SELECT * FROM expenses_bankaccount\")\n",
    "        for i in dictfetchall(cursor):\n",
    "            print(i)"
   ]
  },
  {
   "cell_type": "markdown",
   "id": "e8f933f5",
   "metadata": {},
   "source": [
    "## Setting up"
   ]
  },
  {
   "cell_type": "code",
   "execution_count": 7,
   "id": "c8641313",
   "metadata": {},
   "outputs": [
    {
     "data": {
      "text/plain": [
       "<QuerySet [<BankAccount: Bank account #3\n",
       "            Mandalorian \n",
       "            (2022-12-06) \n",
       "            with $988760>, <BankAccount: Bank account #1\n",
       "            admin acc \n",
       "            (2022-12-06) \n",
       "            with $4012510>, <BankAccount: Bank account #2\n",
       "            Ivan \n",
       "            (2022-12-06) \n",
       "            with $2072160>]>"
      ]
     },
     "execution_count": 7,
     "metadata": {},
     "output_type": "execute_result"
    }
   ],
   "source": [
    "accounts = BankAccount.objects.all()\n",
    "accounts"
   ]
  },
  {
   "cell_type": "code",
   "execution_count": 8,
   "id": "8d8421dd",
   "metadata": {},
   "outputs": [],
   "source": [
    "def send_money_direct(sender_account, money, recipient_account, pub_date):\n",
    "    new_ticket = Ticket()\n",
    "    new_ticket.account = sender_account\n",
    "    new_ticket.ticket_text = 'sending money to acc #' + str(recipient_account.pk)\n",
    "    new_ticket.pub_date = pub_date\n",
    "    new_ticket.money = money\n",
    "    new_ticket.save()\n",
    "    recipient_account.money += money\n",
    "    recipient_account.save()"
   ]
  },
  {
   "cell_type": "code",
   "execution_count": 9,
   "id": "feddd06c",
   "metadata": {},
   "outputs": [],
   "source": [
    "def create_ticket_direct(account, money, description, pub_date):\n",
    "    new_ticket = Ticket()\n",
    "    new_ticket.account = account\n",
    "    new_ticket.ticket_text = description\n",
    "    new_ticket.pub_date = pub_date\n",
    "    new_ticket.money = money\n",
    "    new_ticket.save()"
   ]
  },
  {
   "cell_type": "code",
   "execution_count": 10,
   "id": "c11753b3",
   "metadata": {},
   "outputs": [],
   "source": [
    "# create_ticket_direct(acc, 10, \"soup\", get_time_delta(0))\n",
    "# send_money_direct(acc1, 20, acc0, get_time_delta(2))"
   ]
  },
  {
   "cell_type": "code",
   "execution_count": 11,
   "id": "dfc5cedd",
   "metadata": {},
   "outputs": [],
   "source": [
    "def get_time_delta(deltahours):\n",
    "    return timezone.now() - timedelta(hours=deltahours)"
   ]
  },
  {
   "cell_type": "code",
   "execution_count": 12,
   "id": "4db9367e",
   "metadata": {},
   "outputs": [],
   "source": [
    "# get_time_delta(0), get_time_delta(1)"
   ]
  },
  {
   "cell_type": "markdown",
   "id": "ff0f0b9f",
   "metadata": {},
   "source": [
    "## Generating pipeline"
   ]
  },
  {
   "cell_type": "code",
   "execution_count": 13,
   "id": "99e7f941",
   "metadata": {
    "scrolled": true
   },
   "outputs": [
    {
     "data": {
      "text/plain": [
       "<QuerySet [<BankAccount: Bank account #3\n",
       "            Mandalorian \n",
       "            (2022-12-06) \n",
       "            with $988760>, <BankAccount: Bank account #1\n",
       "            admin acc \n",
       "            (2022-12-06) \n",
       "            with $4012510>, <BankAccount: Bank account #2\n",
       "            Ivan \n",
       "            (2022-12-06) \n",
       "            with $2072160>]>"
      ]
     },
     "execution_count": 13,
     "metadata": {},
     "output_type": "execute_result"
    }
   ],
   "source": [
    "accounts = BankAccount.objects.all()\n",
    "accounts"
   ]
  },
  {
   "cell_type": "code",
   "execution_count": 14,
   "id": "05fcd72e",
   "metadata": {},
   "outputs": [],
   "source": [
    "# for acc in accounts:\n",
    "#     acc.money *= 10\n",
    "#     acc.save()"
   ]
  },
  {
   "cell_type": "code",
   "execution_count": 18,
   "id": "6dc6fbc4",
   "metadata": {
    "scrolled": true
   },
   "outputs": [
    {
     "name": "stdout",
     "output_type": "stream",
     "text": [
      "CPU times: user 6min 16s, sys: 25.1 s, total: 6min 41s\n",
      "Wall time: 11min 2s\n"
     ]
    }
   ],
   "source": [
    "%%time \n",
    "\n",
    "k = 100000\n",
    "deltahours = k # hours ago\n",
    "action_list = [\"create_ticket\", \"send_money_direct\", \"send_money_direct\"] # weighted-like actions 1:2\n",
    "money_list = [1,1,2,2,5,5,10] # weighted-like money 2:2:2:1\n",
    "tickets_descriptions = [\"pizza\", \"sushi\", \"soup\", \"salad\"]\n",
    "\n",
    "act_log = []\n",
    "res_log = []\n",
    "\n",
    "for acc in random.choices(accounts, weights=[2,5,1], k=k):\n",
    "    \n",
    "    act = random.choice(action_list)\n",
    "    mon = random.choice(money_list)\n",
    "    \n",
    "    if act == \"send_money_direct\":\n",
    "        # choose a recipient account\n",
    "        other_accs = list(filter(lambda x: x != acc, accounts))\n",
    "        to_acc = random.choice(other_accs)\n",
    "        # log action\n",
    "        log_text = f\"sending from <{acc.account_text}> to <{to_acc.account_text}> ${mon}\"\n",
    "        act_log.append(act)\n",
    "        res_log.append(log_text)\n",
    "        \n",
    "        # send money\n",
    "        send_money_direct(acc, mon, to_acc, get_time_delta(deltahours))\n",
    "        \n",
    "    elif act == \"create_ticket\":\n",
    "        # choose a description of the ticket\n",
    "        text = random.choice(tickets_descriptions)\n",
    "        # log action\n",
    "        log_text = f\"creating ticket for <{acc.account_text}>: {text} ${mon}\"\n",
    "        act_log.append(act)\n",
    "        res_log.append(log_text)\n",
    "        \n",
    "        # create ticket\n",
    "        create_ticket_direct(acc, mon, text, get_time_delta(deltahours))\n",
    "    \n",
    "    # decrease time delta\n",
    "    deltahours -= random.choice([0,0,1])"
   ]
  },
  {
   "cell_type": "markdown",
   "id": "a18b2819",
   "metadata": {},
   "source": [
    "## Result"
   ]
  },
  {
   "cell_type": "code",
   "execution_count": 19,
   "id": "9383fb64",
   "metadata": {},
   "outputs": [
    {
     "data": {
      "text/plain": [
       "Counter({'send_money_direct': 66756, 'create_ticket': 33244})"
      ]
     },
     "execution_count": 19,
     "metadata": {},
     "output_type": "execute_result"
    }
   ],
   "source": [
    "Counter(act_log)"
   ]
  },
  {
   "cell_type": "code",
   "execution_count": 20,
   "id": "ad88a1fe",
   "metadata": {
    "scrolled": true
   },
   "outputs": [
    {
     "data": {
      "text/plain": [
       "Counter({'sending from <admin acc> to <Ivan> $5': 5905,\n",
       "         'sending from <admin acc> to <Ivan> $10': 2980,\n",
       "         'sending from <admin acc> to <Mandalorian> $2': 5900,\n",
       "         'sending from <admin acc> to <Ivan> $1': 5923,\n",
       "         'creating ticket for <Ivan>: pizza $1': 312,\n",
       "         'sending from <Mandalorian> to <Ivan> $1': 2336,\n",
       "         'creating ticket for <admin acc>: sushi $10': 745,\n",
       "         'sending from <Mandalorian> to <admin acc> $10': 1262,\n",
       "         'creating ticket for <admin acc>: soup $2': 1392,\n",
       "         'creating ticket for <Mandalorian>: salad $1': 591,\n",
       "         'sending from <Mandalorian> to <admin acc> $1': 2427,\n",
       "         'sending from <Mandalorian> to <admin acc> $5': 2420,\n",
       "         'sending from <admin acc> to <Mandalorian> $5': 6067,\n",
       "         'creating ticket for <admin acc>: pizza $5': 1395,\n",
       "         'creating ticket for <admin acc>: pizza $1': 1521,\n",
       "         'creating ticket for <Mandalorian>: pizza $1': 567,\n",
       "         'creating ticket for <admin acc>: soup $5': 1500,\n",
       "         'sending from <admin acc> to <Ivan> $2': 5941,\n",
       "         'creating ticket for <Mandalorian>: soup $10': 290,\n",
       "         'sending from <Ivan> to <admin acc> $5': 1170,\n",
       "         'sending from <Mandalorian> to <Ivan> $2': 2392,\n",
       "         'creating ticket for <admin acc>: sushi $5': 1497,\n",
       "         'creating ticket for <admin acc>: sushi $1': 1555,\n",
       "         'sending from <Mandalorian> to <Ivan> $10': 1196,\n",
       "         'creating ticket for <admin acc>: salad $2': 1470,\n",
       "         'sending from <admin acc> to <Mandalorian> $1': 6016,\n",
       "         'creating ticket for <Ivan>: sushi $1': 336,\n",
       "         'creating ticket for <admin acc>: salad $5': 1474,\n",
       "         'sending from <Mandalorian> to <Ivan> $5': 2398,\n",
       "         'sending from <Ivan> to <admin acc> $1': 1183,\n",
       "         'creating ticket for <Mandalorian>: pizza $5': 575,\n",
       "         'creating ticket for <admin acc>: pizza $2': 1521,\n",
       "         'creating ticket for <admin acc>: pizza $10': 688,\n",
       "         'creating ticket for <Ivan>: pizza $5': 300,\n",
       "         'creating ticket for <Ivan>: pizza $10': 141,\n",
       "         'creating ticket for <admin acc>: sushi $2': 1443,\n",
       "         'creating ticket for <admin acc>: salad $1': 1601,\n",
       "         'sending from <admin acc> to <Mandalorian> $10': 2919,\n",
       "         'creating ticket for <Mandalorian>: soup $1': 558,\n",
       "         'sending from <Ivan> to <Mandalorian> $5': 1164,\n",
       "         'sending from <Ivan> to <Mandalorian> $2': 1244,\n",
       "         'sending from <Ivan> to <admin acc> $2': 1184,\n",
       "         'creating ticket for <admin acc>: soup $1': 1545,\n",
       "         'creating ticket for <Mandalorian>: soup $5': 581,\n",
       "         'creating ticket for <Mandalorian>: salad $5': 575,\n",
       "         'creating ticket for <admin acc>: salad $10': 706,\n",
       "         'creating ticket for <admin acc>: soup $10': 786,\n",
       "         'creating ticket for <Mandalorian>: salad $2': 631,\n",
       "         'sending from <Ivan> to <Mandalorian> $1': 1205,\n",
       "         'sending from <Mandalorian> to <admin acc> $2': 2328,\n",
       "         'creating ticket for <Ivan>: sushi $2': 304,\n",
       "         'sending from <Ivan> to <Mandalorian> $10': 589,\n",
       "         'creating ticket for <Ivan>: soup $5': 285,\n",
       "         'creating ticket for <Mandalorian>: pizza $2': 599,\n",
       "         'sending from <Ivan> to <admin acc> $10': 607,\n",
       "         'creating ticket for <Mandalorian>: sushi $2': 612,\n",
       "         'creating ticket for <Mandalorian>: sushi $5': 622,\n",
       "         'creating ticket for <Ivan>: salad $1': 322,\n",
       "         'creating ticket for <Mandalorian>: salad $10': 294,\n",
       "         'creating ticket for <Mandalorian>: pizza $10': 300,\n",
       "         'creating ticket for <Ivan>: soup $2': 305,\n",
       "         'creating ticket for <Ivan>: soup $1': 278,\n",
       "         'creating ticket for <Ivan>: salad $5': 299,\n",
       "         'creating ticket for <Ivan>: sushi $5': 285,\n",
       "         'creating ticket for <Ivan>: soup $10': 143,\n",
       "         'creating ticket for <Ivan>: salad $2': 280,\n",
       "         'creating ticket for <Mandalorian>: soup $2': 578,\n",
       "         'creating ticket for <Mandalorian>: sushi $1': 603,\n",
       "         'creating ticket for <Ivan>: sushi $10': 140,\n",
       "         'creating ticket for <Ivan>: salad $10': 142,\n",
       "         'creating ticket for <Ivan>: pizza $2': 278,\n",
       "         'creating ticket for <Mandalorian>: sushi $10': 279})"
      ]
     },
     "execution_count": 20,
     "metadata": {},
     "output_type": "execute_result"
    }
   ],
   "source": [
    "Counter(res_log)"
   ]
  },
  {
   "cell_type": "code",
   "execution_count": null,
   "id": "ad473e4b",
   "metadata": {},
   "outputs": [],
   "source": []
  },
  {
   "cell_type": "code",
   "execution_count": null,
   "id": "d86db029",
   "metadata": {},
   "outputs": [],
   "source": []
  },
  {
   "cell_type": "code",
   "execution_count": null,
   "id": "6a2c60fe",
   "metadata": {},
   "outputs": [],
   "source": []
  },
  {
   "cell_type": "code",
   "execution_count": null,
   "id": "eb9f7ee8",
   "metadata": {},
   "outputs": [],
   "source": []
  },
  {
   "cell_type": "code",
   "execution_count": null,
   "id": "d1bffa7d",
   "metadata": {},
   "outputs": [],
   "source": []
  },
  {
   "cell_type": "code",
   "execution_count": 2,
   "id": "e4e69115",
   "metadata": {},
   "outputs": [],
   "source": [
    "from expenses.models import BankAccount, Ticket"
   ]
  },
  {
   "cell_type": "code",
   "execution_count": 31,
   "id": "c292a50c",
   "metadata": {},
   "outputs": [],
   "source": [
    "from django.db.models import Sum, Count\n",
    "\n",
    "report_result_list = [['account_text', 'ticket_text', 'total_money_spent', 'total_actions']]\n",
    "\n",
    "for acc in BankAccount.objects.all().order_by('id'):\n",
    "    tickets_filtered = acc.ticket_set.all().filter(ticket_text__startswith=\"pizza\").filter(money=10)\n",
    "    \n",
    "    account_text = acc.account_text\n",
    "    ticket_text = tickets_filtered[0].ticket_text\n",
    "    total_money_spent = list(tickets_filtered.aggregate(Sum('money')).values())[0]\n",
    "    total_actions = list(tickets_filtered.aggregate(Count('money')).values())[0]\n",
    "    \n",
    "#     print(f\"{acc.id} | {account_text} | {ticket_text} | {total_money_spent} | {total_actions}\")\n",
    "    \n",
    "    report_result_list.append([acc.id, account_text, ticket_text, total_money_spent, total_actions])"
   ]
  },
  {
   "cell_type": "code",
   "execution_count": 32,
   "id": "9765d587",
   "metadata": {},
   "outputs": [
    {
     "data": {
      "text/plain": [
       "[['account_text', 'ticket_text', 'total_money_spent', 'total_actions'],\n",
       " [1, 'admin acc', 'pizza', 7630, 763],\n",
       " [2, 'Ivan', 'pizza', 1550, 155],\n",
       " [3, 'Mandalorian', 'pizza', 3200, 320]]"
      ]
     },
     "execution_count": 32,
     "metadata": {},
     "output_type": "execute_result"
    }
   ],
   "source": [
    "report_result_list"
   ]
  },
  {
   "cell_type": "code",
   "execution_count": null,
   "id": "d983142b",
   "metadata": {},
   "outputs": [],
   "source": []
  },
  {
   "cell_type": "code",
   "execution_count": null,
   "id": "6d86e894",
   "metadata": {},
   "outputs": [],
   "source": []
  }
 ],
 "metadata": {
  "kernelspec": {
   "display_name": "Django Shell-Plus",
   "language": "python",
   "name": "django_extensions"
  },
  "language_info": {
   "codemirror_mode": {
    "name": "ipython",
    "version": 3
   },
   "file_extension": ".py",
   "mimetype": "text/x-python",
   "name": "python",
   "nbconvert_exporter": "python",
   "pygments_lexer": "ipython3",
   "version": "3.9.12"
  }
 },
 "nbformat": 4,
 "nbformat_minor": 5
}
